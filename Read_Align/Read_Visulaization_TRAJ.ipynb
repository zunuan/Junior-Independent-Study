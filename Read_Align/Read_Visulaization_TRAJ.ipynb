{
 "cells": [
  {
   "cell_type": "code",
   "execution_count": 132,
   "metadata": {},
   "outputs": [],
   "source": [
    "### Load parsed TRAJ gene data\n",
    "\n",
    "import pandas as pd\n",
    "\n",
    "df = pd.read_csv(\"../TRAJ_homology/TRAJ_list.txt\", sep = \"\\n\")\n",
    "gene_names = df[\"HUGO\"].values.tolist()\n",
    "\n",
    "df = pd.read_csv(\"../TRAJ_homology/TRAJ_UCSC.tsv\", sep = \"\\t\")\n",
    "gene_IDs = df[\"#name\"].values.tolist()\n"
   ]
  },
  {
   "cell_type": "code",
   "execution_count": 2,
   "metadata": {},
   "outputs": [],
   "source": [
    "### Load GTF file data\n",
    "\n",
    "f = open(\"genes.gtf\", \"r\")\n",
    "gtf = f.readlines()\n",
    "result_list = []\n",
    "\n",
    "for g in gtf:\n",
    "    ID_idx = g.find(\"transcript_id\")\n",
    "    ID_start = ID_idx + g[ID_idx:].find(\"\\\"\")+1\n",
    "    ID_end = ID_start + g[ID_start:].find(\"\\\"\")\n",
    "    ID = g[ID_start:ID_end]\n",
    "    start = int(g.split()[3])\n",
    "    end = int(g.split()[4])\n",
    "    result_list.append([ID, start, end])"
   ]
  },
  {
   "cell_type": "code",
   "execution_count": 3,
   "metadata": {},
   "outputs": [],
   "source": [
    "### Parse positions of TRAJ genes\n",
    "### Return a list of lists containing exon positions\n",
    "\n",
    "pos = [[] for i in range(len(gene_IDs))]\n",
    "for i in range(len(result_list)):\n",
    "    for j in range(len(gene_IDs)):\n",
    "        if result_list[i][0] == gene_IDs[j]:\n",
    "            pos[j].append((result_list[i][1], result_list[i][2]))"
   ]
  },
  {
   "cell_type": "code",
   "execution_count": 4,
   "metadata": {},
   "outputs": [],
   "source": [
    "gene_positions = []\n",
    "positions = df[[\"exonStarts\", \"exonEnds\"]].values.tolist()\n",
    "for i in range(len(gene_names)):\n",
    "    exon_count = len(positions[i][0].split(\",\"))-1\n",
    "    for j in range(exon_count):\n",
    "        start = int(positions[i][0].split(\",\")[j])\n",
    "        end = int(positions[i][1].split(\",\")[j])\n",
    "        gene_positions.append((start,end,i))"
   ]
  },
  {
   "cell_type": "code",
   "execution_count": 5,
   "metadata": {},
   "outputs": [
    {
     "name": "stdout",
     "output_type": "stream",
     "text": [
      "(22475315, 22475375, 0)\n",
      "(22476305, 22476362, 1)\n",
      "(22476552, 22476606, 2)\n",
      "(22477706, 22477769, 3)\n",
      "(22478871, 22478934, 4)\n",
      "...\n",
      "(22540246, 22540306, 55)\n",
      "(22542198, 22542261, 56)\n",
      "(22543178, 22543240, 57)\n",
      "(22544070, 22544136, 58)\n",
      "(22545036, 22545098, 59)\n"
     ]
    }
   ],
   "source": [
    "for i in range(5):\n",
    "    print(gene_positions[i])\n",
    "print(\"...\")\n",
    "for i in range(5,0,-1):\n",
    "    print(gene_positions[len(gene_positions)-i])"
   ]
  },
  {
   "cell_type": "markdown",
   "metadata": {},
   "source": [
    "## TRAV Read Count Analysis"
   ]
  },
  {
   "cell_type": "code",
   "execution_count": 6,
   "metadata": {},
   "outputs": [],
   "source": [
    "f = open(\"aln_TRA.bed\", \"r\")\n",
    "lines = f.readlines()\n",
    "f.close()\n",
    "read_positions = []\n",
    "scores = []\n",
    "CROM = 18200001 # position of the start of chromosome 14.\n",
    "\n",
    "for l in lines:\n",
    "    chrom_start = int(l.split()[1])\n",
    "    chrom_end = int(l.split()[2])\n",
    "    score = int(l.split()[4])\n",
    "    read_positions.append((chrom_start+CROM, chrom_end+CROM, score))\n",
    "    read_positions.append((chrom_start+CROM, chrom_end+CROM, score))\n",
    "    scores.append(score)\n",
    "read_positions.sort(reverse = True, key = lambda x : x[2])"
   ]
  },
  {
   "cell_type": "code",
   "execution_count": 7,
   "metadata": {},
   "outputs": [],
   "source": [
    "ALN_RATE = 0.2\n",
    "read_count = [0]*len(gene_names)\n",
    "\n",
    "for i in range(len(read_positions)):\n",
    "    for j in range(len(gene_positions)):\n",
    "        read_start = read_positions[i][0]\n",
    "        read_end = read_positions[i][1]\n",
    "        gene_start = gene_positions[j][0]\n",
    "        gene_end = gene_positions[j][1]\n",
    "        \n",
    "        if (read_start >= gene_start and read_start <= gene_end) or (read_end >= gene_start and read_end <= gene_end):\n",
    "            overlap = min(read_end, gene_end)-max(read_start, gene_start)\n",
    "            if overlap >= (gene_end-gene_start)*ALN_RATE:\n",
    "                read_count[gene_positions[j][2]] += 1"
   ]
  },
  {
   "cell_type": "code",
   "execution_count": 8,
   "metadata": {},
   "outputs": [
    {
     "data": {
      "text/plain": [
       "<BarContainer object of 60 artists>"
      ]
     },
     "execution_count": 8,
     "metadata": {},
     "output_type": "execute_result"
    },
    {
     "data": {
      "image/png": "[encoded data removed]",
      "text/plain": [
       "<Figure size 432x288 with 1 Axes>"
      ]
     },
     "metadata": {
      "needs_background": "light"
     },
     "output_type": "display_data"
    }
   ],
   "source": [
    "import matplotlib.pyplot as plt\n",
    "plt.xticks(rotation=90, fontsize = 7)\n",
    "plt.bar(gene_names, read_count, color=\"salmon\")"
   ]
  },
  {
   "cell_type": "markdown",
   "metadata": {},
   "source": [
    "## Recalibration"
   ]
  },
  {
   "cell_type": "code",
   "execution_count": 20,
   "metadata": {},
   "outputs": [],
   "source": [
    "f = open(\"aln_TRA.bed\", \"r\")\n",
    "lines = f.readlines()\n",
    "f.close()\n",
    "read_positions = []\n",
    "scores = []\n",
    "CROM = 18200001 # position of the start of chromosome 14.\n",
    "\n",
    "for l in lines:\n",
    "    chrom_start = int(l.split()[1])\n",
    "    chrom_end = int(l.split()[2])\n",
    "    score = int(l.split()[4])\n",
    "    read_positions.append((chrom_start+CROM, chrom_end+CROM, score))\n",
    "    read_positions.append((chrom_start+CROM, chrom_end+CROM, score))\n",
    "    scores.append(score)"
   ]
  },
  {
   "cell_type": "code",
   "execution_count": 21,
   "metadata": {},
   "outputs": [],
   "source": [
    "f = open(\"hg38_Twist_ILMN_Exome_2.0_Plus_Panel_annotated_chr14.bed\", \"r\")\n",
    "bed14 = f.readlines()\n",
    "f.close()\n",
    "targets = []\n",
    "for b in bed14:\n",
    "    if \"TRAJ\" in b.split(\"\\t\")[3]:\n",
    "        if \"TRAJ\" in b.split(\"\\t\")[3].split(\",\")[0]:\n",
    "            targets.append((int(b.split(\"\\t\")[1]),int(b.split(\"\\t\")[2]),b.split(\"\\t\")[3].split(\",\")[0]))\n",
    "        else:\n",
    "            targets.append((int(b.split(\"\\t\")[1]),int(b.split(\"\\t\")[2]),b.split(\"\\t\")[3].split(\",\")[1]))\n"
   ]
  },
  {
   "cell_type": "code",
   "execution_count": 22,
   "metadata": {},
   "outputs": [
    {
     "name": "stdout",
     "output_type": "stream",
     "text": [
      "(22475315, 22475375, 'TRAJ61')\n",
      "(22476552, 22476606, 'TRAJ59')\n",
      "(22477706, 22477769, 'TRAJ58')\n",
      "(22478871, 22478934, 'TRAJ57')\n",
      "(22479520, 22479582, 'TRAJ56')\n",
      "...\n",
      "(22540246, 22540306, 'TRAJ5')\n",
      "(22542198, 22542261, 'TRAJ4')\n",
      "(22543178, 22543240, 'TRAJ3')\n",
      "(22544070, 22544136, 'TRAJ2')\n",
      "(22545036, 22545098, 'TRAJ1')\n"
     ]
    }
   ],
   "source": [
    "for i in range(5):\n",
    "    print(targets[i])\n",
    "print(\"...\")\n",
    "for i in range(5,0,-1):\n",
    "    print(targets[len(targets)-i])"
   ]
  },
  {
   "cell_type": "code",
   "execution_count": 23,
   "metadata": {},
   "outputs": [
    {
     "name": "stdout",
     "output_type": "stream",
     "text": [
      "targeted genes:\n",
      "TRAJ61\n",
      "TRAJ59\n",
      "TRAJ58\n",
      "TRAJ57\n",
      "TRAJ56\n",
      "...\n",
      "TRAJ5\n",
      "TRAJ4\n",
      "TRAJ3\n",
      "TRAJ2\n",
      "TRAJ1\n",
      "\n",
      "untargeted genes:\n",
      "TRAJ8\n",
      "TRAJ15\n",
      "TRAJ51\n",
      "TRAJ55\n",
      "TRAJ60\n"
     ]
    }
   ],
   "source": [
    "temp = [targets[i][2] for i in range(len(targets))]\n",
    "targeted_gene_names = list(dict.fromkeys(temp))\n",
    "untargeted_gene_indexes = []\n",
    "\n",
    "print(\"targeted genes:\")\n",
    "for i in range(5):\n",
    "    print(targeted_gene_names[i])\n",
    "print(\"...\")\n",
    "for i in range(5,0,-1):\n",
    "    print(targeted_gene_names[len(targeted_gene_names)-i])\n",
    "\n",
    "print(\"\\nuntargeted genes:\")\n",
    "for i in range(len(gene_names)):\n",
    "    if gene_names[i] not in targeted_gene_names:\n",
    "        if i not in untargeted_gene_indexes:\n",
    "            untargeted_gene_indexes.append(i)\n",
    "        print(gene_names[i])\n"
   ]
  },
  {
   "cell_type": "code",
   "execution_count": 24,
   "metadata": {},
   "outputs": [],
   "source": [
    "ALN_RATE = 0.2\n",
    "read_count = [0]*len(gene_names)\n",
    "\n",
    "for i in range(len(read_positions)):\n",
    "    for j in range(len(gene_positions)):\n",
    "        read_start = read_positions[i][0]\n",
    "        read_end = read_positions[i][1]\n",
    "        gene_start = gene_positions[j][0]\n",
    "        gene_end = gene_positions[j][1]\n",
    "        \n",
    "        if (read_start >= gene_start and read_start <= gene_end) or (read_end >= gene_start and read_end <= gene_end):\n",
    "            overlap = min(read_end, gene_end)-max(read_start, gene_start)\n",
    "            if overlap >= (gene_end-gene_start)*ALN_RATE:\n",
    "                read_count[gene_positions[j][2]] += 1"
   ]
  },
  {
   "cell_type": "code",
   "execution_count": 25,
   "metadata": {},
   "outputs": [],
   "source": [
    "f = open(\"aln_TRA.bed\", \"r\")\n",
    "tra_bed = f.readlines()\n",
    "positions = []\n",
    "CROM_START = 18200001\n",
    "\n",
    "for tra in tra_bed:\n",
    "    chrom_start = int(tra.split()[1])\n",
    "    chrom_end = int(tra.split()[2])\n",
    "    positions.append((chrom_start+CROM_START, chrom_end+CROM_START))"
   ]
  },
  {
   "cell_type": "code",
   "execution_count": 26,
   "metadata": {},
   "outputs": [],
   "source": [
    "read_count_dict = {}\n",
    "for target in targets:\n",
    "    if target[2] not in read_count_dict:\n",
    "        read_count_dict[target[2]] = 0"
   ]
  },
  {
   "cell_type": "code",
   "execution_count": 27,
   "metadata": {},
   "outputs": [],
   "source": [
    "for position in positions:\n",
    "    for target in targets:\n",
    "        if (position[1] > target[0] and position[0] < target[0]) or (position[1] > target[1] and position[0] < target[1]):\n",
    "            read_count_dict[target[2]] += 1\n",
    "            break"
   ]
  },
  {
   "cell_type": "code",
   "execution_count": 28,
   "metadata": {},
   "outputs": [],
   "source": [
    "count_list = list(read_count_dict.values())\n",
    "targeted_gene_names.reverse()"
   ]
  },
  {
   "cell_type": "code",
   "execution_count": 29,
   "metadata": {},
   "outputs": [
    {
     "data": {
      "text/plain": [
       "<BarContainer object of 56 artists>"
      ]
     },
     "execution_count": 29,
     "metadata": {},
     "output_type": "execute_result"
    },
    {
     "data": {
      "image/png": "[encoded data removed]",
      "text/plain": [
       "<Figure size 432x288 with 1 Axes>"
      ]
     },
     "metadata": {
      "needs_background": "light"
     },
     "output_type": "display_data"
    }
   ],
   "source": [
    "import matplotlib.pyplot as plt\n",
    "names = list(read_count_dict.keys())\n",
    "plt.xticks(rotation=90, fontsize = 7)\n",
    "plt.bar(targeted_gene_names, count_list, color=\"salmon\")\n"
   ]
  }
 ],
 "metadata": {
  "kernelspec": {
   "display_name": "Python 3",
   "language": "python",
   "name": "python3"
  },
  "language_info": {
   "codemirror_mode": {
    "name": "ipython",
    "version": 3
   },
   "file_extension": ".py",
   "mimetype": "text/x-python",
   "name": "python",
   "nbconvert_exporter": "python",
   "pygments_lexer": "ipython3",
   "version": "3.8.1"
  }
 },
 "nbformat": 4,
 "nbformat_minor": 4
}
