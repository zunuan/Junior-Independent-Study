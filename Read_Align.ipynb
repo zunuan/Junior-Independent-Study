{
 "cells": [
  {
   "cell_type": "markdown",
   "metadata": {},
   "source": [
    "## Load Reference Sequence"
   ]
  },
  {
   "cell_type": "code",
   "execution_count": 2,
   "metadata": {},
   "outputs": [],
   "source": [
    "import pandas as pd\n",
    "df = pd.read_csv(\"../TRAV_homology/TRAV_list.txt\", sep = \"\\n\")\n",
    "TRAV_names = df[\"HUGO\"].values.tolist()"
   ]
  },
  {
   "cell_type": "code",
   "execution_count": 3,
   "metadata": {},
   "outputs": [],
   "source": [
    "seq_list = []\n",
    "exon_list = []\n",
    "intron_list = []\n",
    "seq = ''\n",
    "exon = ''\n",
    "intron = ''\n",
    "\n",
    "f = open(\"../TRAV_homology/TRAV_sequences\", \"r\")\n",
    "f.readline()\n",
    "input_list = f.readlines()\n",
    "f.close()\n",
    "\n",
    "for input in input_list:\n",
    "    if input[0] == \">\":\n",
    "        seq_list.append(seq)\n",
    "        exon_list.append(exon)\n",
    "        intron_list.append(intron)\n",
    "        seq = ''\n",
    "        exon = ''\n",
    "        intron = ''\n",
    "        continue\n",
    "    for i in input:\n",
    "        if i.isupper():\n",
    "            seq += i\n",
    "            exon += i\n",
    "        # other characters not appended\n",
    "        if i.islower():\n",
    "            seq += i.upper()\n",
    "            intron += i.upper()\n",
    "\n",
    "seq_list.append(seq)\n",
    "exon_list.append(exon)\n",
    "intron_list.append(intron)"
   ]
  },
  {
   "cell_type": "code",
   "execution_count": 4,
   "metadata": {},
   "outputs": [
    {
     "name": "stdout",
     "output_type": "stream",
     "text": [
      "TRAV1-1 sequence : \n",
      "CTTCTGCAGACTACAGTGGCTCAGGAACCGGGGATGCAGTGCCAGGCTCATGGTATCCTGCAGCAGATGTGGGGAGCTTTCCTTCTCTATGTTTCCATGAAGATGGGAGGTGAGTCTCAATCTAATAGTAAATGCTGCTAGGAATTTTCAAAACAATTTCCTTTCAGCTAAATTATTGCAAATTTTGACATTTGTAATGAGAGTATTTCCTGAATATGCATTTTCCTAACGTGGTGCTAATTGTCCTCCTGTTACTATTGCTGCTGCTGTTACTGCAACCATTTATTTCAGTCTAAGAAATTCTCCCATCAATGGCAGTTCTTTTGTGACCACATGGAAGCATCATTTAAAAAATTATTCCAATAGTTTTTGGAGGAAACATCATTTTTAATAATGATGGGGCTTCTGGGGGTGCTGCCCTAGTAACAATCATGTATCTTGTCATAGGCACTGCAGGACAAAGCCTTGAGCAGCCCTCTGAAGTGACAGCTGTGGAAGGAGCCATTGTCCAGATAAACTGCACGTACCAGACATCTGGGTTTTATGGGCTGTCCTGGTACCAGCAACATGATGGCGGAGCACCCACATTTCTTTCTTACAATGCTCTGGATGGTTTGGAGGAGACAGGTCGTTTTTCTTCATTCCTTAGTCGCTCTGATAGTTATGGTTACCTCCTTCTACAGGAGCTCCAGATGAAAGACTCTGCCTCTTACTTCTGCGCTGTGAGAGA\n",
      "\n",
      "TRAV1-1 exon : \n",
      "CTTCTGCAGACTACAGTGGCTCAGGAACCGGGGATGCAGTGCCAGGCTCATGGTATCCTGCAGCAGATGTGGGGAGCTTTCCTTCTCTATGTTTCCATGAAGATGGGAGGCACTGCAGGACAAAGCCTTGAGCAGCCCTCTGAAGTGACAGCTGTGGAAGGAGCCATTGTCCAGATAAACTGCACGTACCAGACATCTGGGTTTTATGGGCTGTCCTGGTACCAGCAACATGATGGCGGAGCACCCACATTTCTTTCTTACAATGCTCTGGATGGTTTGGAGGAGACAGGTCGTTTTTCTTCATTCCTTAGTCGCTCTGATAGTTATGGTTACCTCCTTCTACAGGAGCTCCAGATGAAAGACTCTGCCTCTTACTTCTGCGCTGTGAGAGA\n",
      "\n",
      "TRAV1-1 intron : \n",
      "GTGAGTCTCAATCTAATAGTAAATGCTGCTAGGAATTTTCAAAACAATTTCCTTTCAGCTAAATTATTGCAAATTTTGACATTTGTAATGAGAGTATTTCCTGAATATGCATTTTCCTAACGTGGTGCTAATTGTCCTCCTGTTACTATTGCTGCTGCTGTTACTGCAACCATTTATTTCAGTCTAAGAAATTCTCCCATCAATGGCAGTTCTTTTGTGACCACATGGAAGCATCATTTAAAAAATTATTCCAATAGTTTTTGGAGGAAACATCATTTTTAATAATGATGGGGCTTCTGGGGGTGCTGCCCTAGTAACAATCATGTATCTTGTCATAG\n",
      "\n"
     ]
    }
   ],
   "source": [
    "IDX = 0\n",
    "\n",
    "print(TRAV_names[IDX]+\" sequence : \\n\"+seq_list[IDX] + \"\\n\")\n",
    "print(TRAV_names[IDX]+\" exon : \\n\"+exon_list[IDX] + \"\\n\")\n",
    "print(TRAV_names[IDX]+\" intron : \\n\"+intron_list[IDX] + \"\\n\")"
   ]
  },
  {
   "cell_type": "markdown",
   "metadata": {},
   "source": [
    "## Load WES Reads"
   ]
  },
  {
   "cell_type": "code",
   "execution_count": 5,
   "metadata": {},
   "outputs": [],
   "source": [
    "wes_reads = []\n",
    "f = open(\"../raw/DNA77_repl1_R1.fastq\", \"r\")\n",
    "line = f.readline()\n",
    "while line:\n",
    "    line = f.readline().strip()\n",
    "    wes_reads.append(line)\n",
    "    f.readline()\n",
    "    f.readline()\n",
    "    line = f.readline()\n",
    "f.close()"
   ]
  },
  {
   "cell_type": "code",
   "execution_count": 6,
   "metadata": {},
   "outputs": [
    {
     "name": "stdout",
     "output_type": "stream",
     "text": [
      "GACTAGAAGCATAGTCCTCTTCCCAAAGGTGAGGGTGCTGTATCCAGCCACAGCACAGAGGTAGACGGCCGAGTCTCCGGTCTGGGTGGCTGTGATGTTCAGGATGCTGAAAAGTTCTTTCTTATCTAATATGCTACTTAGTCTTCCTGA\n",
      "...\n",
      "CATGATTAGATGAGTCCCTTTGCCTAAGGTGAGTCCGTCAGCACCTCCTCAGAGGTAGGTGGCTGAATCACTGAGCTTGGAGTCTCTGATGAGCAGGGAAATATACTGGCTGGCTCTATTGGGCTGTGCTGTAAACCTTCCATCTTCATT\n"
     ]
    }
   ],
   "source": [
    "print(wes_reads[0] + \"\\n...\\n\" + wes_reads[len(wes_reads)-1])\n"
   ]
  },
  {
   "cell_type": "markdown",
   "metadata": {},
   "source": [
    "## Align with BWA MEM\n",
    "bwa mem /data/resource/reference/human/UCSC/hg38/WholeGenomeFasta genome.fa DNA77_repl1_R1.fastq DNA77_repl2_R1.fastq > aln-DNA77.sam"
   ]
  }
 ],
 "metadata": {
  "kernelspec": {
   "display_name": "Python 3",
   "language": "python",
   "name": "python3"
  },
  "language_info": {
   "codemirror_mode": {
    "name": "ipython",
    "version": 3
   },
   "file_extension": ".py",
   "mimetype": "text/x-python",
   "name": "python",
   "nbconvert_exporter": "python",
   "pygments_lexer": "ipython3",
   "version": "3.8.1"
  }
 },
 "nbformat": 4,
 "nbformat_minor": 4
}
