{
 "cells": [
  {
   "cell_type": "code",
   "execution_count": 2,
   "metadata": {
    "scrolled": true
   },
   "outputs": [],
   "source": [
    "f = open(\"TRAV_IDs.txt\", \"r\")\n",
    "TRAV_IDs = []\n",
    "lines = f.readlines()\n",
    "for l in lines:\n",
    "    TRAV_IDs.append(l.strip())\n",
    "f.close()"
   ]
  },
  {
   "cell_type": "code",
   "execution_count": 3,
   "metadata": {},
   "outputs": [
    {
     "name": "stdout",
     "output_type": "stream",
     "text": [
      "['ENST00000542354.1', 'ENST00000390423.2', 'ENST00000390424.2', 'ENST00000390425.2', 'ENST00000390426.2', 'ENST00000390427.3', 'ENST00000390428.3', 'ENST00000390429.3', 'ENST00000390430.2', 'ENST00000390431.3', 'ENST00000390432.2', 'ENST00000539512.1', 'ENST00000390433.1', 'ENST00000390434.3', 'ENST00000390435.1', 'ENST00000390436.2', 'ENST00000390437.2', 'ENST00000390438.2', 'ENST00000537369.1', 'ENST00000390439.2', 'ENST00000390440.2', 'ENST00000390441.2', 'ENST00000556680.1', 'ENST00000390442.3', 'ENST00000390443.3', 'ENST00000390444.1', 'ENST00000390445.2', 'ENST00000390446.3', 'ENST00000390447.3', 'ENST00000390448.3', 'ENST00000390449.3', 'ENST00000390450.3', 'ENST00000390451.2', 'ENST00000390453.1', 'ENST00000390454.2', 'ENST00000390455.3', 'ENST00000390456.3', 'ENST00000390457.2', 'ENST00000557548.1', 'ENST00000390458.3', 'ENST00000557168.1', 'ENST00000502780.2', 'ENST00000553993.1', 'ENST00000557514.1', 'ENST00000390460.1', 'ENST00000390461.2', 'ENST00000390462.1', 'ENST00000390463.3', 'ENST00000553906.1', 'ENST00000390464.2', 'ENST00000390465.2', 'ENST00000390466.1', 'ENST00000390467.3']\n"
     ]
    }
   ],
   "source": [
    "print(TRAV_IDs)"
   ]
  },
  {
   "cell_type": "code",
   "execution_count": 4,
   "metadata": {},
   "outputs": [],
   "source": [
    "f = open(\"TRAV_seqs.txt\", \"r\")\n",
    "TRAV_seqs = []\n",
    "lines = f.readlines()\n",
    "sequence=''\n",
    "for l in lines:\n",
    "    if l[0] == \">\":\n",
    "        TRAV_seqs.append(sequence)\n",
    "        sequence=''\n",
    "        continue\n",
    "    sequence += l.strip()\n",
    "TRAV_seqs.pop(0)\n",
    "f.close()"
   ]
  },
  {
   "cell_type": "code",
   "execution_count": 5,
   "metadata": {},
   "outputs": [],
   "source": [
    "f = open(\"TRAV_seqs.txt\", \"r\")\n",
    "f.readline()\n",
    "lines = f.readlines()\n",
    "TRAV_seqs = []\n",
    "sequence = ''\n",
    "for l in lines:\n",
    "    if l[0] == \">\":\n",
    "        TRAV_seqs.append(sequence)\n",
    "        sequence=''\n",
    "        continue\n",
    "    sequence += l.strip()\n",
    "TRAV_seqs.append(sequence)\n",
    "f.close()"
   ]
  },
  {
   "cell_type": "code",
   "execution_count": 6,
   "metadata": {},
   "outputs": [
    {
     "name": "stdout",
     "output_type": "stream",
     "text": [
      "AAACAGAATGGCTTTTTGGCTGAGAAGCCTGGGTCTACATTTCAGGCCACATTTGGGGAGACGAATGGAGTCATTCCTGGGAGGTGTTTTGCTGATTTTGTGGCTTCAAGTGGACTGGGTGAAGAGCCAAAAGATAGAACAGAATTCCGAGGCTCTGAACATTCAGGAGGGTAAAACGGCCACCCTGACCTGCAACTATACAAACTATTCTCCAGCATACTTACAGTGGTACCGACAAGATCCAGGAAGAGGCCCTGTTTTCTTGCTACTCATACGTGAAAATGAGAAAGAAAAAAGGAAAGAAAGACTGAAGGTCACCTTTGATACCACCCTTAAACAGAGTTTGTTTCATATCACAGCCTCCCAGCCTGCAGACTCAGCTACCTACCTCTGTGCTCTAGACA\n"
     ]
    }
   ],
   "source": [
    "#TRAV6 : 6\n",
    "#TRAV12-1 : 19\n",
    "print(TRAV_seqs[6])"
   ]
  },
  {
   "cell_type": "code",
   "execution_count": 7,
   "metadata": {},
   "outputs": [],
   "source": [
    "f = open(\"TRAJ_IDs.txt\", \"r\")\n",
    "TRAJ_IDs = []\n",
    "lines = f.readlines()\n",
    "for l in lines:\n",
    "    TRAJ_IDs.append(l.strip())\n",
    "f.close()"
   ]
  },
  {
   "cell_type": "code",
   "execution_count": 8,
   "metadata": {},
   "outputs": [
    {
     "data": {
      "text/plain": [
       "59"
      ]
     },
     "execution_count": 8,
     "metadata": {},
     "output_type": "execute_result"
    }
   ],
   "source": [
    "len(TRAJ_IDs)"
   ]
  },
  {
   "cell_type": "code",
   "execution_count": 9,
   "metadata": {},
   "outputs": [],
   "source": [
    "f = open(\"TRAJ_seqs.txt\", \"r\")\n",
    "f.readline()\n",
    "lines = f.readlines()\n",
    "TRAJ_seqs = []\n",
    "sequence = ''\n",
    "for l in lines:\n",
    "    if l[0] == \">\":\n",
    "        TRAJ_seqs.append(sequence)\n",
    "        sequence=''\n",
    "        continue\n",
    "    sequence += l.strip()\n",
    "TRAJ_seqs.append(sequence)\n",
    "f.close()"
   ]
  },
  {
   "cell_type": "code",
   "execution_count": 10,
   "metadata": {
    "scrolled": true
   },
   "outputs": [
    {
     "name": "stdout",
     "output_type": "stream",
     "text": [
      "TGATTTATAACCAGGGAGGAAAGCTTATCTTCGGACAGGGAACGGAGTTATCTGTGAAACCCA\n"
     ]
    }
   ],
   "source": [
    "#TRAJ38 : 39\n",
    "#TRAJ45 : 44\n",
    "print(TRAJ_seqs[30])\n",
    "\n",
    "N_count = 10\n",
    "combination = []\n",
    "\n",
    "for i in range(len(TRAV_seqs)):\n",
    "    for j in range(len(TRAJ_seqs)):\n",
    "        combination.append(TRAV_seqs[i]+\"N\" * N_count+TRAJ_seqs[j])"
   ]
  },
  {
   "cell_type": "code",
   "execution_count": 11,
   "metadata": {},
   "outputs": [
    {
     "name": "stdout",
     "output_type": "stream",
     "text": [
      "CTTCTGCAGACTACAGTGGCTCAGGAACCGGGGATGCAGTGCCAGGCTCATGGTATCCTGCAGCAGATGTGGGGAGCTTTCCTTCTCTATGTTTCCATGAAGATGGGAGGCACTGCAGGACAAAGCCTTGAGCAGCCCTCTGAAGTGACAGCTGTGGAAGGAGCCATTGTCCAGATAAACTGCACGTACCAGACATCTGGGTTTTATGGGCTGTCCTGGTACCAGCAACATGATGGCGGAGCACCCACATTTCTTTCTTACAATGCTCTGGATGGTTTGGAGGAGACAGGTCGTTTTTCTTCATTCCTTAGTCGCTCTGATAGTTATGGTTACCTCCTTCTACAGGAGCTCCAGATGAAAGACTCTGCCTCTTACTTCTGCGCTGTGAGAGANNNNNNNNNNGGTACCGGGTTAATAGGAAACTGACATTTGGAGCCAACACTAGAGGAATCATGAAACTCA\n",
      "...\n",
      "ATGAACTCCTCTCTGGACTTTCTAATTCTGATCTTAATGTTTGGAGGAACCAGCAGCAATTCAGTCAAGCAGACGGGCCAAATAACCGTCTCGGAGGGAGCATCTGTGACTATGAACTGCACATACACATCCACGGGGTACCCTACCCTTTTCTGGTATGTGGAATACCCCAGCAAACCTCTGCAGCTTCTTCAGAGAGAGACAATGGAAAACAGCAAAAACTTCGGAGGCGGAAATATTAAAGACAAAAACTCCCCCATTGTGAAATATTCAGTCCAGGTATCAGACTCAGCCGTGTACTACTGTCTTCTGGGAGANNNNNNNNNNTGAATACTGGAGGAACAATTGATAAACTCACATTTGGGAAAGGGACCCATGTATTCATTATATCTG\n"
     ]
    }
   ],
   "source": [
    "print(combination[0]+\"\\n...\\n\"+combination[len(combination)-1])"
   ]
  },
  {
   "cell_type": "markdown",
   "metadata": {},
   "source": [
    "## Test aligning (V6) NNN (J39)"
   ]
  },
  {
   "cell_type": "markdown",
   "metadata": {},
   "source": [
    "CDR3 region:    TGTGCTC   GCTGG   TAACAATGCCAGACTCATGTTT\n",
    "\n",
    "TRAV_seqs[6]\n",
    "TRAJ_seqs[38]\n",
    "\n",
    "read count:     33511"
   ]
  },
  {
   "cell_type": "code",
   "execution_count": 13,
   "metadata": {},
   "outputs": [
    {
     "name": "stdout",
     "output_type": "stream",
     "text": [
      "AAACAGAATGGCTTTTTGGCTGAGAAGCCTGGGTCTACATTTCAGGCCACATTTGGGGAGACGAATGGAGTCATTCCTGGGAGGTGTTTTGCTGATTTTGTGGCTTCAAGTGGACTGGGTGAAGAGCCAAAAGATAGAACAGAATTCCGAGGCTCTGAACATTCAGGAGGGTAAAACGGCCACCCTGACCTGCAACTATACAAACTATTCTCCAGCATACTTACAGTGGTACCGACAAGATCCAGGAAGAGGCCCTGTTTTCTTGCTACTCATACGTGAAAATGAGAAAGAAAAAAGGAAAGAAAGACTGAAGGTCACCTTTGATACCACCCTTAAACAGAGTTTGTTTCATATCACAGCCTCCCAGCCTGCAGACTCAGCTACCTACCTCTGTGCTCTAGACANGGAATAACAATGCCAGACTCATGTTTGGAGATGGAACTCAGCTGGTGGTGAAGCCCA\n",
      "...\n",
      "AAACAGAATGGCTTTTTGGCTGAGAAGCCTGGGTCTACATTTCAGGCCACATTTGGGGAGACGAATGGAGTCATTCCTGGGAGGTGTTTTGCTGATTTTGTGGCTTCAAGTGGACTGGGTGAAGAGCCAAAAGATAGAACAGAATTCCGAGGCTCTGAACATTCAGGAGGGTAAAACGGCCACCCTGACCTGCAACTATACAAACTATTCTCCAGCATACTTACAGTGGTACCGACAAGATCCAGGAAGAGGCCCTGTTTTCTTGCTACTCATACGTGAAAATGAGAAAGAAAAAAGGAAAGAAAGACTGAAGGTCACCTTTGATACCACCCTTAAACAGAGTTTGTTTCATATCACAGCCTCCCAGCCTGCAGACTCAGCTACCTACCTCTGTGCTCTAGACANNNNNNNNNNNNNNNNNNNNNNNNNNNNNGGAATAACAATGCCAGACTCATGTTTGGAGATGGAACTCAGCTGGTGGTGAAGCCCA\n"
     ]
    }
   ],
   "source": [
    "references = []\n",
    "v = TRAV_seqs[6]\n",
    "j = TRAJ_seqs[38]\n",
    "\n",
    "for i in range(1,30):\n",
    "    ref = v + \"N\"*i + j\n",
    "    references.append(ref)\n",
    "print(references[0]+\"\\n...\\n\"+references[len(references)-1])"
   ]
  }
 ],
 "metadata": {
  "kernelspec": {
   "display_name": "Python 3",
   "language": "python",
   "name": "python3"
  },
  "language_info": {
   "codemirror_mode": {
    "name": "ipython",
    "version": 3
   },
   "file_extension": ".py",
   "mimetype": "text/x-python",
   "name": "python",
   "nbconvert_exporter": "python",
   "pygments_lexer": "ipython3",
   "version": "3.8.1"
  }
 },
 "nbformat": 4,
 "nbformat_minor": 4
}
